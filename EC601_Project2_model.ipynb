{
 "cells": [
  {
   "cell_type": "code",
   "execution_count": 11,
   "id": "4dee1832",
   "metadata": {},
   "outputs": [
    {
     "name": "stdout",
     "output_type": "stream",
     "text": [
      "Requirement already satisfied: tweepy in /srv/conda/envs/notebook/lib/python3.6/site-packages (4.2.0)\n",
      "Requirement already satisfied: requests<3,>=2.11.1 in /srv/conda/envs/notebook/lib/python3.6/site-packages (from tweepy) (2.26.0)\n",
      "Requirement already satisfied: requests-oauthlib<2,>=1.0.0 in /srv/conda/envs/notebook/lib/python3.6/site-packages (from tweepy) (1.3.0)\n",
      "Requirement already satisfied: charset-normalizer~=2.0.0 in /srv/conda/envs/notebook/lib/python3.6/site-packages (from requests<3,>=2.11.1->tweepy) (2.0.0)\n",
      "Requirement already satisfied: idna<4,>=2.5 in /srv/conda/envs/notebook/lib/python3.6/site-packages (from requests<3,>=2.11.1->tweepy) (3.1)\n",
      "Requirement already satisfied: urllib3<1.27,>=1.21.1 in /srv/conda/envs/notebook/lib/python3.6/site-packages (from requests<3,>=2.11.1->tweepy) (1.26.6)\n",
      "Requirement already satisfied: certifi>=2017.4.17 in /srv/conda/envs/notebook/lib/python3.6/site-packages (from requests<3,>=2.11.1->tweepy) (2021.5.30)\n",
      "Requirement already satisfied: oauthlib>=3.0.0 in /srv/conda/envs/notebook/lib/python3.6/site-packages (from requests-oauthlib<2,>=1.0.0->tweepy) (3.1.1)\n",
      "Note: you may need to restart the kernel to use updated packages.\n"
     ]
    }
   ],
   "source": [
    "pip install tweepy"
   ]
  },
  {
   "cell_type": "code",
   "execution_count": 12,
   "id": "f019864b",
   "metadata": {},
   "outputs": [
    {
     "name": "stdout",
     "output_type": "stream",
     "text": [
      "Requirement already satisfied: yweather in /srv/conda/envs/notebook/lib/python3.6/site-packages (0.1.1)\n",
      "Note: you may need to restart the kernel to use updated packages.\n"
     ]
    }
   ],
   "source": [
    "pip install yweather"
   ]
  },
  {
   "cell_type": "code",
   "execution_count": 13,
   "id": "3ea526b5",
   "metadata": {},
   "outputs": [
    {
     "name": "stdout",
     "output_type": "stream",
     "text": [
      "Requirement already satisfied: google-cloud in /srv/conda/envs/notebook/lib/python3.6/site-packages (0.34.0)\n",
      "Note: you may need to restart the kernel to use updated packages.\n"
     ]
    }
   ],
   "source": [
    "pip install google-cloud"
   ]
  },
  {
   "cell_type": "code",
   "execution_count": 14,
   "id": "668e2e00",
   "metadata": {},
   "outputs": [
    {
     "name": "stdout",
     "output_type": "stream",
     "text": [
      "Requirement already satisfied: google in /srv/conda/envs/notebook/lib/python3.6/site-packages (3.0.0)\n",
      "Requirement already satisfied: beautifulsoup4 in /srv/conda/envs/notebook/lib/python3.6/site-packages (from google) (4.10.0)\n",
      "Requirement already satisfied: soupsieve>1.2 in /srv/conda/envs/notebook/lib/python3.6/site-packages (from beautifulsoup4->google) (2.2.1)\n",
      "Note: you may need to restart the kernel to use updated packages.\n"
     ]
    }
   ],
   "source": [
    "pip install google"
   ]
  },
  {
   "cell_type": "code",
   "execution_count": 15,
   "id": "b989a9c6",
   "metadata": {},
   "outputs": [
    {
     "name": "stdout",
     "output_type": "stream",
     "text": [
      "Requirement already satisfied: protobuf in /srv/conda/envs/notebook/lib/python3.6/site-packages (3.19.1)\n",
      "Note: you may need to restart the kernel to use updated packages.\n"
     ]
    }
   ],
   "source": [
    "pip install protobuf"
   ]
  },
  {
   "cell_type": "code",
   "execution_count": 16,
   "id": "c62187ca",
   "metadata": {},
   "outputs": [
    {
     "name": "stdout",
     "output_type": "stream",
     "text": [
      "Requirement already satisfied: google-cloud-bigquery in /srv/conda/envs/notebook/lib/python3.6/site-packages (2.29.0)\n",
      "Requirement already satisfied: google-api-core[grpc]<3.0.0dev,>=1.29.0 in /srv/conda/envs/notebook/lib/python3.6/site-packages (from google-cloud-bigquery) (2.2.1)\n",
      "Requirement already satisfied: packaging>=14.3 in /srv/conda/envs/notebook/lib/python3.6/site-packages (from google-cloud-bigquery) (21.0)\n",
      "Requirement already satisfied: python-dateutil<3.0dev,>=2.7.2 in /srv/conda/envs/notebook/lib/python3.6/site-packages (from google-cloud-bigquery) (2.8.2)\n",
      "Requirement already satisfied: requests<3.0.0dev,>=2.18.0 in /srv/conda/envs/notebook/lib/python3.6/site-packages (from google-cloud-bigquery) (2.26.0)\n",
      "Requirement already satisfied: proto-plus>=1.10.0 in /srv/conda/envs/notebook/lib/python3.6/site-packages (from google-cloud-bigquery) (1.19.7)\n",
      "Requirement already satisfied: google-resumable-media<3.0dev,>=0.6.0 in /srv/conda/envs/notebook/lib/python3.6/site-packages (from google-cloud-bigquery) (2.1.0)\n",
      "Requirement already satisfied: grpcio<2.0dev,>=1.38.1 in /srv/conda/envs/notebook/lib/python3.6/site-packages (from google-cloud-bigquery) (1.41.1)\n",
      "Requirement already satisfied: protobuf>=3.12.0 in /srv/conda/envs/notebook/lib/python3.6/site-packages (from google-cloud-bigquery) (3.19.1)\n",
      "Requirement already satisfied: google-cloud-core<3.0.0dev,>=1.4.1 in /srv/conda/envs/notebook/lib/python3.6/site-packages (from google-cloud-bigquery) (2.1.0)\n",
      "Requirement already satisfied: google-auth<3.0dev,>=1.25.0 in /srv/conda/envs/notebook/lib/python3.6/site-packages (from google-api-core[grpc]<3.0.0dev,>=1.29.0->google-cloud-bigquery) (2.3.2)\n",
      "Requirement already satisfied: setuptools>=40.3.0 in /srv/conda/envs/notebook/lib/python3.6/site-packages (from google-api-core[grpc]<3.0.0dev,>=1.29.0->google-cloud-bigquery) (49.6.0.post20210108)\n",
      "Requirement already satisfied: googleapis-common-protos<2.0dev,>=1.52.0 in /srv/conda/envs/notebook/lib/python3.6/site-packages (from google-api-core[grpc]<3.0.0dev,>=1.29.0->google-cloud-bigquery) (1.53.0)\n",
      "Requirement already satisfied: grpcio-status<2.0dev,>=1.33.2 in /srv/conda/envs/notebook/lib/python3.6/site-packages (from google-api-core[grpc]<3.0.0dev,>=1.29.0->google-cloud-bigquery) (1.41.1)\n",
      "Requirement already satisfied: six>=1.9.0 in /srv/conda/envs/notebook/lib/python3.6/site-packages (from google-auth<3.0dev,>=1.25.0->google-api-core[grpc]<3.0.0dev,>=1.29.0->google-cloud-bigquery) (1.16.0)\n",
      "Requirement already satisfied: rsa<5,>=3.1.4 in /srv/conda/envs/notebook/lib/python3.6/site-packages (from google-auth<3.0dev,>=1.25.0->google-api-core[grpc]<3.0.0dev,>=1.29.0->google-cloud-bigquery) (4.7.2)\n",
      "Requirement already satisfied: cachetools<5.0,>=2.0.0 in /srv/conda/envs/notebook/lib/python3.6/site-packages (from google-auth<3.0dev,>=1.25.0->google-api-core[grpc]<3.0.0dev,>=1.29.0->google-cloud-bigquery) (4.2.4)\n",
      "Requirement already satisfied: pyasn1-modules>=0.2.1 in /srv/conda/envs/notebook/lib/python3.6/site-packages (from google-auth<3.0dev,>=1.25.0->google-api-core[grpc]<3.0.0dev,>=1.29.0->google-cloud-bigquery) (0.2.8)\n",
      "Requirement already satisfied: google-crc32c<2.0dev,>=1.0 in /srv/conda/envs/notebook/lib/python3.6/site-packages (from google-resumable-media<3.0dev,>=0.6.0->google-cloud-bigquery) (1.3.0)\n",
      "Requirement already satisfied: pyparsing>=2.0.2 in /srv/conda/envs/notebook/lib/python3.6/site-packages (from packaging>=14.3->google-cloud-bigquery) (2.4.7)\n",
      "Requirement already satisfied: pyasn1<0.5.0,>=0.4.6 in /srv/conda/envs/notebook/lib/python3.6/site-packages (from pyasn1-modules>=0.2.1->google-auth<3.0dev,>=1.25.0->google-api-core[grpc]<3.0.0dev,>=1.29.0->google-cloud-bigquery) (0.4.8)\n",
      "Requirement already satisfied: charset-normalizer~=2.0.0 in /srv/conda/envs/notebook/lib/python3.6/site-packages (from requests<3.0.0dev,>=2.18.0->google-cloud-bigquery) (2.0.0)\n",
      "Requirement already satisfied: certifi>=2017.4.17 in /srv/conda/envs/notebook/lib/python3.6/site-packages (from requests<3.0.0dev,>=2.18.0->google-cloud-bigquery) (2021.5.30)\n",
      "Requirement already satisfied: urllib3<1.27,>=1.21.1 in /srv/conda/envs/notebook/lib/python3.6/site-packages (from requests<3.0.0dev,>=2.18.0->google-cloud-bigquery) (1.26.6)\n",
      "Requirement already satisfied: idna<4,>=2.5 in /srv/conda/envs/notebook/lib/python3.6/site-packages (from requests<3.0.0dev,>=2.18.0->google-cloud-bigquery) (3.1)\n",
      "Note: you may need to restart the kernel to use updated packages.\n"
     ]
    }
   ],
   "source": [
    "pip install google-cloud-bigquery"
   ]
  },
  {
   "cell_type": "code",
   "execution_count": 17,
   "id": "487c1c5e",
   "metadata": {},
   "outputs": [
    {
     "name": "stdout",
     "output_type": "stream",
     "text": [
      "Requirement already satisfied: google-cloud-language in /srv/conda/envs/notebook/lib/python3.6/site-packages (2.3.0)\n",
      "Requirement already satisfied: packaging>=14.3 in /srv/conda/envs/notebook/lib/python3.6/site-packages (from google-cloud-language) (21.0)\n",
      "Requirement already satisfied: google-api-core[grpc]<3.0.0dev,>=1.26.0 in /srv/conda/envs/notebook/lib/python3.6/site-packages (from google-cloud-language) (2.2.1)\n",
      "Requirement already satisfied: proto-plus>=1.10.0 in /srv/conda/envs/notebook/lib/python3.6/site-packages (from google-cloud-language) (1.19.7)\n",
      "Requirement already satisfied: protobuf>=3.12.0 in /srv/conda/envs/notebook/lib/python3.6/site-packages (from google-api-core[grpc]<3.0.0dev,>=1.26.0->google-cloud-language) (3.19.1)\n",
      "Requirement already satisfied: requests<3.0.0dev,>=2.18.0 in /srv/conda/envs/notebook/lib/python3.6/site-packages (from google-api-core[grpc]<3.0.0dev,>=1.26.0->google-cloud-language) (2.26.0)\n",
      "Requirement already satisfied: setuptools>=40.3.0 in /srv/conda/envs/notebook/lib/python3.6/site-packages (from google-api-core[grpc]<3.0.0dev,>=1.26.0->google-cloud-language) (49.6.0.post20210108)\n",
      "Requirement already satisfied: google-auth<3.0dev,>=1.25.0 in /srv/conda/envs/notebook/lib/python3.6/site-packages (from google-api-core[grpc]<3.0.0dev,>=1.26.0->google-cloud-language) (2.3.2)\n",
      "Requirement already satisfied: googleapis-common-protos<2.0dev,>=1.52.0 in /srv/conda/envs/notebook/lib/python3.6/site-packages (from google-api-core[grpc]<3.0.0dev,>=1.26.0->google-cloud-language) (1.53.0)\n",
      "Requirement already satisfied: grpcio<2.0dev,>=1.33.2 in /srv/conda/envs/notebook/lib/python3.6/site-packages (from google-api-core[grpc]<3.0.0dev,>=1.26.0->google-cloud-language) (1.41.1)\n",
      "Requirement already satisfied: grpcio-status<2.0dev,>=1.33.2 in /srv/conda/envs/notebook/lib/python3.6/site-packages (from google-api-core[grpc]<3.0.0dev,>=1.26.0->google-cloud-language) (1.41.1)\n",
      "Requirement already satisfied: six>=1.9.0 in /srv/conda/envs/notebook/lib/python3.6/site-packages (from google-auth<3.0dev,>=1.25.0->google-api-core[grpc]<3.0.0dev,>=1.26.0->google-cloud-language) (1.16.0)\n",
      "Requirement already satisfied: pyasn1-modules>=0.2.1 in /srv/conda/envs/notebook/lib/python3.6/site-packages (from google-auth<3.0dev,>=1.25.0->google-api-core[grpc]<3.0.0dev,>=1.26.0->google-cloud-language) (0.2.8)\n",
      "Requirement already satisfied: rsa<5,>=3.1.4 in /srv/conda/envs/notebook/lib/python3.6/site-packages (from google-auth<3.0dev,>=1.25.0->google-api-core[grpc]<3.0.0dev,>=1.26.0->google-cloud-language) (4.7.2)\n",
      "Requirement already satisfied: cachetools<5.0,>=2.0.0 in /srv/conda/envs/notebook/lib/python3.6/site-packages (from google-auth<3.0dev,>=1.25.0->google-api-core[grpc]<3.0.0dev,>=1.26.0->google-cloud-language) (4.2.4)\n",
      "Requirement already satisfied: pyparsing>=2.0.2 in /srv/conda/envs/notebook/lib/python3.6/site-packages (from packaging>=14.3->google-cloud-language) (2.4.7)\n",
      "Requirement already satisfied: pyasn1<0.5.0,>=0.4.6 in /srv/conda/envs/notebook/lib/python3.6/site-packages (from pyasn1-modules>=0.2.1->google-auth<3.0dev,>=1.25.0->google-api-core[grpc]<3.0.0dev,>=1.26.0->google-cloud-language) (0.4.8)\n",
      "Requirement already satisfied: idna<4,>=2.5 in /srv/conda/envs/notebook/lib/python3.6/site-packages (from requests<3.0.0dev,>=2.18.0->google-api-core[grpc]<3.0.0dev,>=1.26.0->google-cloud-language) (3.1)\n",
      "Requirement already satisfied: urllib3<1.27,>=1.21.1 in /srv/conda/envs/notebook/lib/python3.6/site-packages (from requests<3.0.0dev,>=2.18.0->google-api-core[grpc]<3.0.0dev,>=1.26.0->google-cloud-language) (1.26.6)\n",
      "Requirement already satisfied: charset-normalizer~=2.0.0 in /srv/conda/envs/notebook/lib/python3.6/site-packages (from requests<3.0.0dev,>=2.18.0->google-api-core[grpc]<3.0.0dev,>=1.26.0->google-cloud-language) (2.0.0)\n",
      "Requirement already satisfied: certifi>=2017.4.17 in /srv/conda/envs/notebook/lib/python3.6/site-packages (from requests<3.0.0dev,>=2.18.0->google-api-core[grpc]<3.0.0dev,>=1.26.0->google-cloud-language) (2021.5.30)\n",
      "Note: you may need to restart the kernel to use updated packages.\n"
     ]
    }
   ],
   "source": [
    "pip install google-cloud-language"
   ]
  },
  {
   "cell_type": "code",
   "execution_count": null,
   "id": "56567c4c",
   "metadata": {},
   "outputs": [],
   "source": [
    "import json\n",
    "import csv\n",
    "import tweepy\n",
    "import re\n",
    "import yweather\n",
    "import pandas as pd"
   ]
  },
  {
   "cell_type": "code",
   "execution_count": null,
   "id": "96e6ea21",
   "metadata": {},
   "outputs": [],
   "source": [
    "#Twitter API credentials\n",
    "consumer_key = \"\"\n",
    "consumer_secret = \"\"\n",
    "access_key = \"\"\n",
    "access_secret = \"\"\n",
    "\n",
    "#authorize twitter, initialize tweepy\n",
    "auth = tweepy.OAuthHandler(consumer_key, consumer_secret)\n",
    "auth.set_access_token(access_key, access_secret)\n",
    "api = tweepy.API(auth)"
   ]
  },
  {
   "cell_type": "code",
   "execution_count": null,
   "id": "db5ce17e",
   "metadata": {},
   "outputs": [],
   "source": [
    "import os\n",
    "from google.cloud import language_v1\n",
    "\n",
    "credential_path = \"Z:\\BU\\2021Fall\\EC601\\Project2\\credential.json\"\n",
    "os.environ['GOOGLE_APPLICATION_CREDENTIALS'] = credential_path\n",
    "# Instantiates a client\n",
    "client = language_v1.LanguageServiceClient()\n",
    "\n",
    "def sentimentScore(text):\n",
    "    document = language_v1.Document(content=text, type_=language_v1.Document.Type.PLAIN_TEXT)\n",
    "    # Detects the sentiment of the text\n",
    "    sentiment = client.analyze_sentiment(request={'document': document}).document_sentiment\n",
    "    return sentiment.score"
   ]
  },
  {
   "cell_type": "code",
   "execution_count": null,
   "id": "db6bb14b",
   "metadata": {},
   "outputs": [],
   "source": [
    "def getCorodinate(place):\n",
    "    from geopy.geocoders import Nominatim\n",
    "    geolocator = Nominatim(user_agent=\"myapp\")\n",
    "    location = geolocator.geocode(place)\n",
    "    return location.latitude, location.longitude"
   ]
  },
  {
   "cell_type": "code",
   "execution_count": null,
   "id": "a123b844",
   "metadata": {},
   "outputs": [],
   "source": [
    "def getWOEID(place):\n",
    "    try:\n",
    "        trends = api.trends_available()\n",
    "        for val in trends:\n",
    "            if (val['name'].lower() == place.lower()):\n",
    "                return(val['woeid']) \n",
    "        print('Location Not Found')\n",
    "    except Exception as e:\n",
    "        print('Exception:',e)\n",
    "        return(0)\n",
    "\n"
   ]
  },
  {
   "cell_type": "code",
   "execution_count": null,
   "id": "3c9c5025",
   "metadata": {},
   "outputs": [],
   "source": [
    "def get_trends_by_location(loc_id,count=50):\n",
    "    try:\n",
    "        trends = api.trends_place(loc_id)\n",
    "        df = pd.DataFrame([trending['name'],  trending['tweet_volume'], trending['url']] for trending in trends[0]['trends'])\n",
    "        df.columns = ['Trends','Volume','url']\n",
    "        # df = df.sort_values('Volume', ascending = False)\n",
    "        # print(df[:count])\n",
    "        return(df['Trends'][:count])\n",
    "    except Exception as e:\n",
    "        print(\"An exception occurred\",e)\n",
    "    \n",
    "print(get_trends_by_location(getWOEID('boston'),10))"
   ]
  },
  {
   "cell_type": "code",
   "execution_count": null,
   "id": "3e9bec77",
   "metadata": {},
   "outputs": [],
   "source": [
    "def search_for_phrase(phrase,place,amount):\n",
    "    try:\n",
    "        df = pd.DataFrame( columns = [\"text\",'sentiment score'])\n",
    "        latitude = getCorodinate(place)[0]\n",
    "        longitude = getCorodinate(place)[1]\n",
    "        for tweet in tweepy.Cursor(api.search, q=phrase.encode('utf-8') +' -filter:retweets'.encode('utf-8'),geocode=str(latitude)+\",\"+str(longitude)+\",100km\",lang='en',result_type='recent',tweet_mode='extended').items(amount):\n",
    "            txt = tweet.full_text.replace('\\n',' ').encode('utf-8')\n",
    "            df=df.append({\"text\": txt,'sentiment score': sentimentScore(txt)},ignore_index=True)\n",
    "        # print (df)\n",
    "        return phrase, df['sentiment score'].mean(), df['sentiment score'].var()\n",
    "        \n",
    "    except Exception as e:\n",
    "        print(\"An exception occurred\",e)\n",
    "\n",
    "search_for_phrase('pizza','boston',10)"
   ]
  },
  {
   "cell_type": "code",
   "execution_count": null,
   "id": "fb09aee2",
   "metadata": {},
   "outputs": [],
   "source": [
    "def getResult(place):\n",
    "    data=[]\n",
    "    trends = get_trends_by_location(getWOEID(place),10)\n",
    "    for phrase in trends:\n",
    "        data.append(search_for_phrase(phrase,place,10))\n",
    "    df = pd.DataFrame(data,columns=['trends','mean of sentiment-score','variance of sentiment-score'])\n",
    "    print (df)"
   ]
  },
  {
   "cell_type": "code",
   "execution_count": null,
   "id": "4d5b143f",
   "metadata": {},
   "outputs": [],
   "source": [
    "if __name__ == '__main__':\n",
    "    getResult(\"boston\")"
   ]
  },
  {
   "cell_type": "code",
   "execution_count": null,
   "id": "f673fbd0",
   "metadata": {},
   "outputs": [],
   "source": []
  }
 ],
 "metadata": {
  "kernelspec": {
   "display_name": "Python 3",
   "language": "python",
   "name": "python3"
  },
  "language_info": {
   "codemirror_mode": {
    "name": "ipython",
    "version": 3
   },
   "file_extension": ".py",
   "mimetype": "text/x-python",
   "name": "python",
   "nbconvert_exporter": "python",
   "pygments_lexer": "ipython3",
   "version": "3.6.13"
  }
 },
 "nbformat": 4,
 "nbformat_minor": 5
}
