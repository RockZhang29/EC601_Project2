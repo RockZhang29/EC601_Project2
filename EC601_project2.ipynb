{
 "cells": [
  {
   "cell_type": "code",
   "execution_count": 1,
   "id": "1135f8db",
   "metadata": {},
   "outputs": [
    {
     "name": "stdout",
     "output_type": "stream",
     "text": [
      "Collecting git+https://github.com/tweepy/tweepy.git\n",
      "  Cloning https://github.com/tweepy/tweepy.git to /tmp/pip-req-build-jjf75seq\n",
      "  Running command git clone -q https://github.com/tweepy/tweepy.git /tmp/pip-req-build-jjf75seq\n",
      "  Resolved https://github.com/tweepy/tweepy.git to commit 8d6d51d528b86755e467cd810177ba585c4a8b73\n",
      "Requirement already satisfied: requests<3,>=2.11.1 in /srv/conda/envs/notebook/lib/python3.6/site-packages (from tweepy==4.0.0) (2.26.0)\n",
      "Requirement already satisfied: requests_oauthlib<2,>=1.0.0 in /srv/conda/envs/notebook/lib/python3.6/site-packages (from tweepy==4.0.0) (1.3.0)\n",
      "Requirement already satisfied: certifi>=2017.4.17 in /srv/conda/envs/notebook/lib/python3.6/site-packages (from requests<3,>=2.11.1->tweepy==4.0.0) (2021.5.30)\n",
      "Requirement already satisfied: charset-normalizer~=2.0.0 in /srv/conda/envs/notebook/lib/python3.6/site-packages (from requests<3,>=2.11.1->tweepy==4.0.0) (2.0.0)\n",
      "Requirement already satisfied: urllib3<1.27,>=1.21.1 in /srv/conda/envs/notebook/lib/python3.6/site-packages (from requests<3,>=2.11.1->tweepy==4.0.0) (1.26.6)\n",
      "Requirement already satisfied: idna<4,>=2.5 in /srv/conda/envs/notebook/lib/python3.6/site-packages (from requests<3,>=2.11.1->tweepy==4.0.0) (3.1)\n",
      "Requirement already satisfied: oauthlib>=3.0.0 in /srv/conda/envs/notebook/lib/python3.6/site-packages (from requests_oauthlib<2,>=1.0.0->tweepy==4.0.0) (3.1.1)\n",
      "Note: you may need to restart the kernel to use updated packages.\n"
     ]
    }
   ],
   "source": [
    "pip install git+https://github.com/tweepy/tweepy.git"
   ]
  },
  {
   "cell_type": "code",
   "execution_count": 22,
   "id": "e376f5c0",
   "metadata": {},
   "outputs": [],
   "source": [
    "import tweepy\n",
    "import webbrowser\n",
    "import time\n",
    "import pandas as pd"
   ]
  },
  {
   "cell_type": "code",
   "execution_count": 2,
   "id": "1979bf95",
   "metadata": {},
   "outputs": [],
   "source": [
    "consumer_key=\"RiSuoXSWTZtlRg9T6Vji350jw\"\n",
    "consumer_secret=\"VslOR3Vl41kJBSlNFU7z9WVMkhC934i57GTt6pQmUQFaPUgUpk\""
   ]
  },
  {
   "cell_type": "code",
   "execution_count": 3,
   "id": "9aa7892e",
   "metadata": {},
   "outputs": [],
   "source": [
    "callback_uri = 'oob' # https://cfe.sh/twitter/callback"
   ]
  },
  {
   "cell_type": "code",
   "execution_count": 4,
   "id": "725106b4",
   "metadata": {},
   "outputs": [
    {
     "name": "stdout",
     "output_type": "stream",
     "text": [
      "https://api.twitter.com/oauth/authorize?oauth_token=32rREAAAAAABUAnpAAABfCPEzBk\n"
     ]
    }
   ],
   "source": [
    "auth = tweepy.OAuthHandler(consumer_key, consumer_secret, callback_uri)\n",
    "redirect_url = auth.get_authorization_url()\n",
    "print(redirect_url)"
   ]
  },
  {
   "cell_type": "code",
   "execution_count": 5,
   "id": "cfcd0593",
   "metadata": {},
   "outputs": [
    {
     "name": "stdout",
     "output_type": "stream",
     "text": [
      "What's the pin value? 6958818\n"
     ]
    }
   ],
   "source": [
    "user_pint_input = input(\"What's the pin value? \")"
   ]
  },
  {
   "cell_type": "code",
   "execution_count": 6,
   "id": "e36ca897",
   "metadata": {},
   "outputs": [
    {
     "data": {
      "text/plain": [
       "'6958818'"
      ]
     },
     "execution_count": 6,
     "metadata": {},
     "output_type": "execute_result"
    }
   ],
   "source": [
    "user_pint_input"
   ]
  },
  {
   "cell_type": "code",
   "execution_count": 7,
   "id": "28f547b7",
   "metadata": {},
   "outputs": [
    {
     "data": {
      "text/plain": [
       "('1304993746958782464-SHV8C0qNDfVhQSZmR1WNKkDNoTQqd6',\n",
       " 'fKhOyof8j84WNMut9o9Gj9SNfIdRHS0K67Ke2L9HTUGvc')"
      ]
     },
     "execution_count": 7,
     "metadata": {},
     "output_type": "execute_result"
    }
   ],
   "source": [
    "auth.get_access_token(user_pint_input)"
   ]
  },
  {
   "cell_type": "code",
   "execution_count": 8,
   "id": "c850f6d2",
   "metadata": {},
   "outputs": [
    {
     "name": "stdout",
     "output_type": "stream",
     "text": [
      "1304993746958782464-SHV8C0qNDfVhQSZmR1WNKkDNoTQqd6 fKhOyof8j84WNMut9o9Gj9SNfIdRHS0K67Ke2L9HTUGvc\n"
     ]
    }
   ],
   "source": [
    "print(auth.access_token, auth.access_token_secret)"
   ]
  },
  {
   "cell_type": "code",
   "execution_count": 28,
   "id": "336e5c4f",
   "metadata": {},
   "outputs": [
    {
     "ename": "AttributeError",
     "evalue": "'API' object has no attribute 'me'",
     "output_type": "error",
     "traceback": [
      "\u001b[0;31m---------------------------------------------------------------------------\u001b[0m",
      "\u001b[0;31mAttributeError\u001b[0m                            Traceback (most recent call last)",
      "\u001b[0;32m<ipython-input-28-2e0dc455ea63>\u001b[0m in \u001b[0;36m<module>\u001b[0;34m\u001b[0m\n\u001b[1;32m      1\u001b[0m \u001b[0mapi\u001b[0m \u001b[0;34m=\u001b[0m \u001b[0mtweepy\u001b[0m\u001b[0;34m.\u001b[0m\u001b[0mAPI\u001b[0m\u001b[0;34m(\u001b[0m\u001b[0mauth\u001b[0m\u001b[0;34m)\u001b[0m\u001b[0;34m\u001b[0m\u001b[0;34m\u001b[0m\u001b[0m\n\u001b[0;32m----> 2\u001b[0;31m \u001b[0mme\u001b[0m \u001b[0;34m=\u001b[0m \u001b[0mapi\u001b[0m\u001b[0;34m.\u001b[0m\u001b[0mme\u001b[0m\u001b[0;34m(\u001b[0m\u001b[0;34m)\u001b[0m\u001b[0;34m\u001b[0m\u001b[0;34m\u001b[0m\u001b[0m\n\u001b[0m",
      "\u001b[0;31mAttributeError\u001b[0m: 'API' object has no attribute 'me'"
     ]
    }
   ],
   "source": [
    "api = tweepy.API(auth)\n",
    "me = api.me()"
   ]
  },
  {
   "cell_type": "code",
   "execution_count": 15,
   "id": "ad5ed5cd",
   "metadata": {},
   "outputs": [],
   "source": [
    "my_timeline = api.home_timeline()"
   ]
  },
  {
   "cell_type": "code",
   "execution_count": 16,
   "id": "3a3d91d4",
   "metadata": {},
   "outputs": [
    {
     "name": "stdout",
     "output_type": "stream",
     "text": [
      "Dame_Lillard\n",
      "Dame_Lillard\n",
      "StephenCurry30\n",
      "Dame_Lillard\n",
      "Dame_Lillard\n",
      "Dame_Lillard\n",
      "Dame_Lillard\n",
      "Dame_Lillard\n",
      "Dame_Lillard\n",
      "Dame_Lillard\n",
      "Dame_Lillard\n",
      "Dame_Lillard\n",
      "SHAQ\n",
      "Dame_Lillard\n",
      "Dame_Lillard\n",
      "Dame_Lillard\n",
      "Dame_Lillard\n",
      "Dame_Lillard\n",
      "Dame_Lillard\n",
      "Dame_Lillard\n"
     ]
    }
   ],
   "source": [
    "columns = set()\n",
    "allowed_types = [str, int]\n",
    "tweets_data = []\n",
    "for status in my_timeline:\n",
    "    print(status.author.screen_name)\n",
    "    # print(type(vars(status)))\n",
    "    status_dict = dict(vars(status))\n",
    "    keys = status_dict.keys()\n",
    "    single_tweet_data = {\"user\": status.user.screen_name, \"author\": status.author.screen_name}\n",
    "    for k in keys:\n",
    "        try:\n",
    "            v_type = type(status_dict[k])\n",
    "        except:\n",
    "            v_type = None\n",
    "        if v_type != None:\n",
    "            if v_type in allowed_types:\n",
    "                single_tweet_data[k] = status_dict[k]\n",
    "                columns.add(k)\n",
    "    tweets_data.append(single_tweet_data)\n",
    "\n",
    "        \n",
    "header_cols = list(columns)\n",
    "header_cols.append(\"user\")\n",
    "header_cols.append('author')"
   ]
  },
  {
   "cell_type": "code",
   "execution_count": 17,
   "id": "0a658c07",
   "metadata": {},
   "outputs": [
    {
     "data": {
      "text/plain": [
       "['source_url',\n",
       " 'id_str',\n",
       " 'text',\n",
       " 'id',\n",
       " 'favorite_count',\n",
       " 'source',\n",
       " 'quoted_status_id',\n",
       " 'quoted_status_id_str',\n",
       " 'lang',\n",
       " 'retweet_count',\n",
       " 'user',\n",
       " 'author']"
      ]
     },
     "execution_count": 17,
     "metadata": {},
     "output_type": "execute_result"
    }
   ],
   "source": [
    "header_cols"
   ]
  },
  {
   "cell_type": "code",
   "execution_count": 18,
   "id": "07937922",
   "metadata": {},
   "outputs": [
    {
     "data": {
      "text/plain": [
       "[{'user': 'Dame_Lillard',\n",
       "  'author': 'Dame_Lillard',\n",
       "  'id': 1442221148737921026,\n",
       "  'id_str': '1442221148737921026',\n",
       "  'text': 'I don’t have direct tv https://t.co/G9eCYxwcRP',\n",
       "  'source': 'Twitter for iPhone',\n",
       "  'source_url': 'http://twitter.com/download/iphone',\n",
       "  'quoted_status_id': 1442220769136627712,\n",
       "  'quoted_status_id_str': '1442220769136627712',\n",
       "  'retweet_count': 6,\n",
       "  'favorite_count': 243,\n",
       "  'lang': 'en'},\n",
       " {'user': 'Dame_Lillard',\n",
       "  'author': 'Dame_Lillard',\n",
       "  'id': 1442220310518910981,\n",
       "  'id_str': '1442220310518910981',\n",
       "  'text': 'Who got Sunday ticket log in I can use ? Lol',\n",
       "  'source': 'Twitter for iPhone',\n",
       "  'source_url': 'http://twitter.com/download/iphone',\n",
       "  'retweet_count': 130,\n",
       "  'favorite_count': 1808,\n",
       "  'lang': 'en'},\n",
       " {'user': 'StephenCurry30',\n",
       "  'author': 'StephenCurry30',\n",
       "  'id': 1441909151127408643,\n",
       "  'id_str': '1441909151127408643',\n",
       "  'text': 'Not often you get a chance to talk to the 🐐 An honor and privilege to speak with MJ at the #RyderCup ⛳️🙌🏽 https://t.co/rdoLVXa1mq',\n",
       "  'source': 'Twitter for iPhone',\n",
       "  'source_url': 'http://twitter.com/download/iphone',\n",
       "  'quoted_status_id': 1441868939814858753,\n",
       "  'quoted_status_id_str': '1441868939814858753',\n",
       "  'retweet_count': 1561,\n",
       "  'favorite_count': 20161,\n",
       "  'lang': 'en'},\n",
       " {'user': 'Dame_Lillard',\n",
       "  'author': 'Dame_Lillard',\n",
       "  'id': 1441887634616315914,\n",
       "  'id_str': '1441887634616315914',\n",
       "  'text': 'Rematch gone be even tougher for AJ. Usyk gone get more comfortable at this weight and he gone know AJ better… lookin forward to it',\n",
       "  'source': 'Twitter for iPhone',\n",
       "  'source_url': 'http://twitter.com/download/iphone',\n",
       "  'retweet_count': 361,\n",
       "  'favorite_count': 3750,\n",
       "  'lang': 'en'},\n",
       " {'user': 'Dame_Lillard',\n",
       "  'author': 'Dame_Lillard',\n",
       "  'id': 1441886831864270850,\n",
       "  'id_str': '1441886831864270850',\n",
       "  'text': 'You saw the 8 seconds on the clock too right? https://t.co/9fMssUHRdg',\n",
       "  'source': 'Twitter for iPhone',\n",
       "  'source_url': 'http://twitter.com/download/iphone',\n",
       "  'quoted_status_id': 1441886625030574081,\n",
       "  'quoted_status_id_str': '1441886625030574081',\n",
       "  'retweet_count': 17,\n",
       "  'favorite_count': 427,\n",
       "  'lang': 'en'},\n",
       " {'user': 'Dame_Lillard',\n",
       "  'author': 'Dame_Lillard',\n",
       "  'id': 1441886718257291270,\n",
       "  'id_str': '1441886718257291270',\n",
       "  'text': 'Usyk by unanimous decision man. Respect to AJ tho',\n",
       "  'source': 'Twitter for iPhone',\n",
       "  'source_url': 'http://twitter.com/download/iphone',\n",
       "  'retweet_count': 234,\n",
       "  'favorite_count': 2757,\n",
       "  'lang': 'en'},\n",
       " {'user': 'Dame_Lillard',\n",
       "  'author': 'Dame_Lillard',\n",
       "  'id': 1441886314140295175,\n",
       "  'id_str': '1441886314140295175',\n",
       "  'text': 'The bell went off with 8 seconds on the clock https://t.co/gYOSZwK4Rq',\n",
       "  'source': 'Twitter for iPhone',\n",
       "  'source_url': 'http://twitter.com/download/iphone',\n",
       "  'quoted_status_id': 1441886128001495041,\n",
       "  'quoted_status_id_str': '1441886128001495041',\n",
       "  'retweet_count': 17,\n",
       "  'favorite_count': 385,\n",
       "  'lang': 'en'},\n",
       " {'user': 'Dame_Lillard',\n",
       "  'author': 'Dame_Lillard',\n",
       "  'id': 1441886048334667778,\n",
       "  'id_str': '1441886048334667778',\n",
       "  'text': 'They stopped the fight with 8 seconds!!!! Boxing is fucked up man',\n",
       "  'source': 'Twitter for iPhone',\n",
       "  'source_url': 'http://twitter.com/download/iphone',\n",
       "  'retweet_count': 356,\n",
       "  'favorite_count': 6490,\n",
       "  'lang': 'en'},\n",
       " {'user': 'Dame_Lillard',\n",
       "  'author': 'Dame_Lillard',\n",
       "  'id': 1441845957474226178,\n",
       "  'id_str': '1441845957474226178',\n",
       "  'text': '🙏🏽🙏🏽 https://t.co/RtCfPhg00Y',\n",
       "  'source': 'Twitter for iPhone',\n",
       "  'source_url': 'http://twitter.com/download/iphone',\n",
       "  'quoted_status_id': 1441838668847669248,\n",
       "  'quoted_status_id_str': '1441838668847669248',\n",
       "  'retweet_count': 17,\n",
       "  'favorite_count': 323,\n",
       "  'lang': 'und'},\n",
       " {'user': 'Dame_Lillard',\n",
       "  'author': 'Dame_Lillard',\n",
       "  'id': 1441835495391064066,\n",
       "  'id_str': '1441835495391064066',\n",
       "  'text': 'RT @manny_boxing: I never like to see a fighter seriously hurt in a fight. Fighters give it all in the ring for a chance to create legacy a…',\n",
       "  'source': 'Twitter for iPhone',\n",
       "  'source_url': 'http://twitter.com/download/iphone',\n",
       "  'retweet_count': 29,\n",
       "  'favorite_count': 0,\n",
       "  'lang': 'en'},\n",
       " {'user': 'Dame_Lillard',\n",
       "  'author': 'Dame_Lillard',\n",
       "  'id': 1441833156085125138,\n",
       "  'id_str': '1441833156085125138',\n",
       "  'text': '10 years not 4 https://t.co/JYEHTLqZAA',\n",
       "  'source': 'Twitter for iPhone',\n",
       "  'source_url': 'http://twitter.com/download/iphone',\n",
       "  'quoted_status_id': 1441610498630324224,\n",
       "  'quoted_status_id_str': '1441610498630324224',\n",
       "  'retweet_count': 250,\n",
       "  'favorite_count': 5797,\n",
       "  'lang': 'en'},\n",
       " {'user': 'Dame_Lillard',\n",
       "  'author': 'Dame_Lillard',\n",
       "  'id': 1441832800810721284,\n",
       "  'id_str': '1441832800810721284',\n",
       "  'text': 'Sending prayers for Lenin Castillo! Hopefully he will be okay…',\n",
       "  'source': 'Twitter for iPhone',\n",
       "  'source_url': 'http://twitter.com/download/iphone',\n",
       "  'retweet_count': 46,\n",
       "  'favorite_count': 1017,\n",
       "  'lang': 'en'},\n",
       " {'user': 'SHAQ',\n",
       "  'author': 'SHAQ',\n",
       "  'id': 1441831524312109058,\n",
       "  'id_str': '1441831524312109058',\n",
       "  'text': 'My new cereal is helping kids play sports with #MissionTiger! Thanks @GMA for talking with me about my dream of bei… https://t.co/3jqNnxI5rA',\n",
       "  'source': 'Twitter Web App',\n",
       "  'source_url': 'https://mobile.twitter.com',\n",
       "  'retweet_count': 37,\n",
       "  'favorite_count': 429,\n",
       "  'lang': 'en'},\n",
       " {'user': 'Dame_Lillard',\n",
       "  'author': 'Dame_Lillard',\n",
       "  'id': 1441603369047519239,\n",
       "  'id_str': '1441603369047519239',\n",
       "  'text': 'Lol maaaaaan https://t.co/sofiTTDDV0',\n",
       "  'source': 'Twitter for iPhone',\n",
       "  'source_url': 'http://twitter.com/download/iphone',\n",
       "  'quoted_status_id': 1441603100721045511,\n",
       "  'quoted_status_id_str': '1441603100721045511',\n",
       "  'retweet_count': 36,\n",
       "  'favorite_count': 1083,\n",
       "  'lang': 'ht'},\n",
       " {'user': 'Dame_Lillard',\n",
       "  'author': 'Dame_Lillard',\n",
       "  'id': 1441602984077512706,\n",
       "  'id_str': '1441602984077512706',\n",
       "  'text': '50/50 https://t.co/o5okb6LXwu',\n",
       "  'source': 'Twitter for iPhone',\n",
       "  'source_url': 'http://twitter.com/download/iphone',\n",
       "  'quoted_status_id': 1441602668087160833,\n",
       "  'quoted_status_id_str': '1441602668087160833',\n",
       "  'retweet_count': 7,\n",
       "  'favorite_count': 224,\n",
       "  'lang': 'und'},\n",
       " {'user': 'Dame_Lillard',\n",
       "  'author': 'Dame_Lillard',\n",
       "  'id': 1441602870726389764,\n",
       "  'id_str': '1441602870726389764',\n",
       "  'text': 'This goin the distance https://t.co/csJzcHoE9x',\n",
       "  'source': 'Twitter for iPhone',\n",
       "  'source_url': 'http://twitter.com/download/iphone',\n",
       "  'quoted_status_id': 1441602480861679616,\n",
       "  'quoted_status_id_str': '1441602480861679616',\n",
       "  'retweet_count': 9,\n",
       "  'favorite_count': 184,\n",
       "  'lang': 'en'},\n",
       " {'user': 'Dame_Lillard',\n",
       "  'author': 'Dame_Lillard',\n",
       "  'id': 1441602706179706888,\n",
       "  'id_str': '1441602706179706888',\n",
       "  'text': 'Name a player who’s available more than me the last 10 years that plays as many minutes… https://t.co/VL1JQlEy9b',\n",
       "  'source': 'Twitter for iPhone',\n",
       "  'source_url': 'http://twitter.com/download/iphone',\n",
       "  'quoted_status_id': 1441602159804551168,\n",
       "  'quoted_status_id_str': '1441602159804551168',\n",
       "  'retweet_count': 704,\n",
       "  'favorite_count': 11700,\n",
       "  'lang': 'en'},\n",
       " {'user': 'Dame_Lillard',\n",
       "  'author': 'Dame_Lillard',\n",
       "  'id': 1441601683641929730,\n",
       "  'id_str': '1441601683641929730',\n",
       "  'text': 'Can’t wait for usyk vs Joshua tomorrow … gone be a great one',\n",
       "  'source': 'Twitter for iPhone',\n",
       "  'source_url': 'http://twitter.com/download/iphone',\n",
       "  'retweet_count': 353,\n",
       "  'favorite_count': 3996,\n",
       "  'lang': 'en'},\n",
       " {'user': 'Dame_Lillard',\n",
       "  'author': 'Dame_Lillard',\n",
       "  'id': 1441601449473961986,\n",
       "  'id_str': '1441601449473961986',\n",
       "  'text': 'RT @allen_xie3: Hardest worker in the NBA @Dame_Lillard https://t.co/rCXP2qCZjo',\n",
       "  'source': 'Twitter for iPhone',\n",
       "  'source_url': 'http://twitter.com/download/iphone',\n",
       "  'quoted_status_id': 1441522252785152000,\n",
       "  'quoted_status_id_str': '1441522252785152000',\n",
       "  'retweet_count': 98,\n",
       "  'favorite_count': 0,\n",
       "  'lang': 'en'},\n",
       " {'user': 'Dame_Lillard',\n",
       "  'author': 'Dame_Lillard',\n",
       "  'id': 1441601150298456074,\n",
       "  'id_str': '1441601150298456074',\n",
       "  'text': 'Based on a true story https://t.co/gcXPn1Q62F',\n",
       "  'source': 'Twitter for iPhone',\n",
       "  'source_url': 'http://twitter.com/download/iphone',\n",
       "  'quoted_status_id': 1441422066519969801,\n",
       "  'quoted_status_id_str': '1441422066519969801',\n",
       "  'retweet_count': 2960,\n",
       "  'favorite_count': 19582,\n",
       "  'lang': 'en'}]"
      ]
     },
     "execution_count": 18,
     "metadata": {},
     "output_type": "execute_result"
    }
   ],
   "source": [
    "tweets_data"
   ]
  },
  {
   "cell_type": "code",
   "execution_count": 19,
   "id": "530cd688",
   "metadata": {},
   "outputs": [],
   "source": [
    "def extract_timeline_as_df(timeline_list):\n",
    "    columns = set()\n",
    "    allowed_types = [str, int]\n",
    "    tweets_data = []\n",
    "    for status in timeline_list:\n",
    "        status_dict = dict(vars(status))\n",
    "        keys = status_dict.keys()\n",
    "        single_tweet_data = {\"user\": status.user.screen_name, \"author\": status.author.screen_name}\n",
    "        for k in keys:\n",
    "            try:\n",
    "                v_type = type(status_dict[k])\n",
    "            except:\n",
    "                v_type = None\n",
    "            if v_type != None:\n",
    "                if v_type in allowed_types:\n",
    "                    single_tweet_data[k] = status_dict[k]\n",
    "                    columns.add(k)\n",
    "        tweets_data.append(single_tweet_data)\n",
    "\n",
    "\n",
    "    header_cols = list(columns)\n",
    "    header_cols.append(\"user\")\n",
    "    header_cols.append('author')\n",
    "    df = pd.DataFrame(tweets_data, columns=header_cols)\n",
    "    return df"
   ]
  },
  {
   "cell_type": "code",
   "execution_count": 20,
   "id": "df4f0f83",
   "metadata": {},
   "outputs": [],
   "source": [
    "my_timeline = api.home_timeline()"
   ]
  },
  {
   "cell_type": "code",
   "execution_count": 23,
   "id": "af7587a9",
   "metadata": {},
   "outputs": [
    {
     "data": {
      "text/html": [
       "<div>\n",
       "<style scoped>\n",
       "    .dataframe tbody tr th:only-of-type {\n",
       "        vertical-align: middle;\n",
       "    }\n",
       "\n",
       "    .dataframe tbody tr th {\n",
       "        vertical-align: top;\n",
       "    }\n",
       "\n",
       "    .dataframe thead th {\n",
       "        text-align: right;\n",
       "    }\n",
       "</style>\n",
       "<table border=\"1\" class=\"dataframe\">\n",
       "  <thead>\n",
       "    <tr style=\"text-align: right;\">\n",
       "      <th></th>\n",
       "      <th>source_url</th>\n",
       "      <th>id_str</th>\n",
       "      <th>text</th>\n",
       "      <th>id</th>\n",
       "      <th>favorite_count</th>\n",
       "      <th>source</th>\n",
       "      <th>quoted_status_id</th>\n",
       "      <th>quoted_status_id_str</th>\n",
       "      <th>lang</th>\n",
       "      <th>retweet_count</th>\n",
       "      <th>user</th>\n",
       "      <th>author</th>\n",
       "    </tr>\n",
       "  </thead>\n",
       "  <tbody>\n",
       "    <tr>\n",
       "      <th>0</th>\n",
       "      <td>http://twitter.com/download/iphone</td>\n",
       "      <td>1442221148737921026</td>\n",
       "      <td>I don’t have direct tv https://t.co/G9eCYxwcRP</td>\n",
       "      <td>1442221148737921026</td>\n",
       "      <td>252</td>\n",
       "      <td>Twitter for iPhone</td>\n",
       "      <td>1.442221e+18</td>\n",
       "      <td>1442220769136627712</td>\n",
       "      <td>en</td>\n",
       "      <td>7</td>\n",
       "      <td>Dame_Lillard</td>\n",
       "      <td>Dame_Lillard</td>\n",
       "    </tr>\n",
       "    <tr>\n",
       "      <th>1</th>\n",
       "      <td>http://twitter.com/download/iphone</td>\n",
       "      <td>1442220310518910981</td>\n",
       "      <td>Who got Sunday ticket log in I can use ? Lol</td>\n",
       "      <td>1442220310518910981</td>\n",
       "      <td>1870</td>\n",
       "      <td>Twitter for iPhone</td>\n",
       "      <td>NaN</td>\n",
       "      <td>NaN</td>\n",
       "      <td>en</td>\n",
       "      <td>135</td>\n",
       "      <td>Dame_Lillard</td>\n",
       "      <td>Dame_Lillard</td>\n",
       "    </tr>\n",
       "    <tr>\n",
       "      <th>2</th>\n",
       "      <td>http://twitter.com/download/iphone</td>\n",
       "      <td>1441909151127408643</td>\n",
       "      <td>Not often you get a chance to talk to the 🐐 An...</td>\n",
       "      <td>1441909151127408643</td>\n",
       "      <td>20162</td>\n",
       "      <td>Twitter for iPhone</td>\n",
       "      <td>1.441869e+18</td>\n",
       "      <td>1441868939814858753</td>\n",
       "      <td>en</td>\n",
       "      <td>1561</td>\n",
       "      <td>StephenCurry30</td>\n",
       "      <td>StephenCurry30</td>\n",
       "    </tr>\n",
       "    <tr>\n",
       "      <th>3</th>\n",
       "      <td>http://twitter.com/download/iphone</td>\n",
       "      <td>1441887634616315914</td>\n",
       "      <td>Rematch gone be even tougher for AJ. Usyk gone...</td>\n",
       "      <td>1441887634616315914</td>\n",
       "      <td>3751</td>\n",
       "      <td>Twitter for iPhone</td>\n",
       "      <td>NaN</td>\n",
       "      <td>NaN</td>\n",
       "      <td>en</td>\n",
       "      <td>361</td>\n",
       "      <td>Dame_Lillard</td>\n",
       "      <td>Dame_Lillard</td>\n",
       "    </tr>\n",
       "    <tr>\n",
       "      <th>4</th>\n",
       "      <td>http://twitter.com/download/iphone</td>\n",
       "      <td>1441886831864270850</td>\n",
       "      <td>You saw the 8 seconds on the clock too right? ...</td>\n",
       "      <td>1441886831864270850</td>\n",
       "      <td>427</td>\n",
       "      <td>Twitter for iPhone</td>\n",
       "      <td>1.441887e+18</td>\n",
       "      <td>1441886625030574081</td>\n",
       "      <td>en</td>\n",
       "      <td>17</td>\n",
       "      <td>Dame_Lillard</td>\n",
       "      <td>Dame_Lillard</td>\n",
       "    </tr>\n",
       "  </tbody>\n",
       "</table>\n",
       "</div>"
      ],
      "text/plain": [
       "                           source_url               id_str  \\\n",
       "0  http://twitter.com/download/iphone  1442221148737921026   \n",
       "1  http://twitter.com/download/iphone  1442220310518910981   \n",
       "2  http://twitter.com/download/iphone  1441909151127408643   \n",
       "3  http://twitter.com/download/iphone  1441887634616315914   \n",
       "4  http://twitter.com/download/iphone  1441886831864270850   \n",
       "\n",
       "                                                text                   id  \\\n",
       "0     I don’t have direct tv https://t.co/G9eCYxwcRP  1442221148737921026   \n",
       "1       Who got Sunday ticket log in I can use ? Lol  1442220310518910981   \n",
       "2  Not often you get a chance to talk to the 🐐 An...  1441909151127408643   \n",
       "3  Rematch gone be even tougher for AJ. Usyk gone...  1441887634616315914   \n",
       "4  You saw the 8 seconds on the clock too right? ...  1441886831864270850   \n",
       "\n",
       "   favorite_count              source  quoted_status_id quoted_status_id_str  \\\n",
       "0             252  Twitter for iPhone      1.442221e+18  1442220769136627712   \n",
       "1            1870  Twitter for iPhone               NaN                  NaN   \n",
       "2           20162  Twitter for iPhone      1.441869e+18  1441868939814858753   \n",
       "3            3751  Twitter for iPhone               NaN                  NaN   \n",
       "4             427  Twitter for iPhone      1.441887e+18  1441886625030574081   \n",
       "\n",
       "  lang  retweet_count            user          author  \n",
       "0   en              7    Dame_Lillard    Dame_Lillard  \n",
       "1   en            135    Dame_Lillard    Dame_Lillard  \n",
       "2   en           1561  StephenCurry30  StephenCurry30  \n",
       "3   en            361    Dame_Lillard    Dame_Lillard  \n",
       "4   en             17    Dame_Lillard    Dame_Lillard  "
      ]
     },
     "execution_count": 23,
     "metadata": {},
     "output_type": "execute_result"
    }
   ],
   "source": [
    "df2 = extract_timeline_as_df(my_timeline)\n",
    "df2.head()"
   ]
  },
  {
   "cell_type": "code",
   "execution_count": 29,
   "id": "479b37dc",
   "metadata": {},
   "outputs": [
    {
     "data": {
      "text/plain": [
       "40"
      ]
     },
     "execution_count": 29,
     "metadata": {},
     "output_type": "execute_result"
    }
   ],
   "source": [
    "len(api.home_timeline(count=40))"
   ]
  },
  {
   "cell_type": "code",
   "execution_count": 30,
   "id": "fa2d809e",
   "metadata": {},
   "outputs": [
    {
     "name": "stdout",
     "output_type": "stream",
     "text": [
      "0 I don’t have direct tv https://t.co/G9eCYxwcRP\n",
      "1 Who got Sunday ticket log in I can use ? Lol\n",
      "2 It’s this icon’s birthday ✨ Lakers fam, join us in celebrating @jeaniebuss https://t.co/i7cWW2SmV6\n",
      "3 Not often you get a chance to talk to the 🐐 An honor and privilege to speak with MJ at the #RyderCup ⛳️🙌🏽 https://t.co/rdoLVXa1mq\n",
      "4 Rematch gone be even tougher for AJ. Usyk gone get more comfortable at this weight and he gone know AJ better… lookin forward to it\n",
      "5 You saw the 8 seconds on the clock too right? https://t.co/9fMssUHRdg\n",
      "6 Usyk by unanimous decision man. Respect to AJ tho\n",
      "7 The bell went off with 8 seconds on the clock https://t.co/gYOSZwK4Rq\n",
      "8 They stopped the fight with 8 seconds!!!! Boxing is fucked up man\n",
      "9 🙏🏽🙏🏽 https://t.co/RtCfPhg00Y\n",
      "10 RT @manny_boxing: I never like to see a fighter seriously hurt in a fight. Fighters give it all in the ring for a chance to create legacy a…\n",
      "11 10 years not 4 https://t.co/JYEHTLqZAA\n",
      "12 Sending prayers for Lenin Castillo! Hopefully he will be okay…\n",
      "13 My new cereal is helping kids play sports with #MissionTiger! Thanks @GMA for talking with me about my dream of bei… https://t.co/3jqNnxI5rA\n",
      "14 Lol maaaaaan https://t.co/sofiTTDDV0\n",
      "15 50/50 https://t.co/o5okb6LXwu\n",
      "16 This goin the distance https://t.co/csJzcHoE9x\n",
      "17 Name a player who’s available more than me the last 10 years that plays as many minutes… https://t.co/VL1JQlEy9b\n",
      "18 Can’t wait for usyk vs Joshua tomorrow … gone be a great one\n",
      "19 RT @allen_xie3: Hardest worker in the NBA @Dame_Lillard https://t.co/rCXP2qCZjo\n",
      "20 Based on a true story https://t.co/gcXPn1Q62F\n",
      "21 RT @RyderCupUSA: We're all fans this week 🗑️🏀\n",
      "\n",
      "#RyderCupUSA https://t.co/b2omI399BB\n",
      "22 🎧🔊 🔁  https://t.co/SMbwOuAkAI\n",
      "23 RT @esquire: Portland Trailblazers star and rapper @Dame_Lillard explains some of the best and funniest moments of his career to us. \n",
      "\n",
      "WATC…\n",
      "24 Full video version of #WIYG with @danawhite premiering now on YouTube. Great conversation! https://t.co/HPlWylxcjn https://t.co/W1hNuDJORz\n",
      "25 It’s not just a car wash – it’s @MisterCarWash. Together we’re giving away 100 FREE 1-year Platinum Unlimited Wash… https://t.co/AmjQpfdPYB\n",
      "26 Join me and the The Shaquille O’Neal Foundation with @kellyclarkson @justinbieber @AndraDayMusic @Imaginedragons an… https://t.co/TI89ga6JtA\n",
      "27 👀🔥 https://t.co/a3VDXheVW1\n",
      "28 Dame D.O.L.L.A. - Him Duncan (Official Video) https://t.co/4zRLn8dP4x via @YouTube\n",
      "29 Three of the game's greatest passers. #LakeShow https://t.co/c0TylEyojm\n",
      "30 Sat down for \"What's In Your Glass?\" with @danawhite ahead of #UFC266 tomorrow night! Tap in now:… https://t.co/9sjdHTruTF\n",
      "31 It was an honor to sit down with Bob Costas to talk about #WhereTomorrowsArentPromised and so much more. New episod… https://t.co/52C4qOE5gF\n",
      "32 SHEESH!!!! Need to go check that out! 🔥🔥🔥🔥🔥🔥🔥 https://t.co/UVK4epyeXT\n",
      "33 That’s so amazing! What sports is all about🔥🔥🔥🔥🔥 https://t.co/ieVD0q4eMV\n",
      "34 RT @LakersReporter: Pelinka’s Pre-Preseason Presser:\n",
      "\n",
      "https://t.co/hMNdP8E1V4\n",
      "\n",
      "Including full quotes from LAL’s VP of B-Ball ops on LeBron…\n",
      "35 😃🏀 https://t.co/HIgwah59gh\n",
      "36 Lakers Nation: How loud will @STAPLESCenter be on Opening Night? https://t.co/OstoNS9Pat\n",
      "37 RT @LakersReporter: Rob Pelinka: \"On opening night, all of the players that are currently signed on our roster will be deemed fully vaccina…\n",
      "38 From First Team All-G League to NBA Champion: Thank you, Devontae! https://t.co/KjHTkU6Qdr\n",
      "39 RT @2K: @Dame_Lillard @NBA2KMobile DAME TIME🔥\n",
      "40 2K is an everyday thing for me. Sometimes on the 🎮 , sometimes on my 📱 \n",
      "\n",
      "Honored to be the @NBA2KMobile cover athle… https://t.co/utvUn8M15U\n",
      "41 It's time y'all, out here feeling GOOD bc we got an epic @holeymoleyabc season finale in store for you tonight! 8|7… https://t.co/c7se3HKmhu\n",
      "42 RT @NBA: 🔊 Today on @NBA Twitter Spaces at 3 PM ET 🔊\n",
      "\n",
      "'My Basketball Journey' with Shaun Powell (@Powell2daPeople) and @WayneEllington of t…\n",
      "43 Happy bday bro https://t.co/RkdkmCeX5p\n",
      "44 It’s all about honoring and empowering young women. Get ready for the LeBron 18 Low “Daughters” for September’s… https://t.co/aPWit41Jb4\n",
      "45 From the City of Angels to Seoul, Lakers Nation is everywhere 🌎\n",
      " \n",
      "#LakeShow x @bibigoUSA https://t.co/kdiZsqKlOL\n",
      "46 🐺🐺🐺🐺🐺🐺 https://t.co/qQFy9nTj0j\n",
      "47 https://t.co/giGNZw2dDC\n",
      "48 New York Times Best-Seller! #7 of course! #WhereTomorrowsArentPromised https://t.co/0ITqarwMct\n",
      "49 My longtime trainer @philbeckner has released some of the different shooting competitions we do every offseason.  P… https://t.co/m7rNfau3ns\n"
     ]
    }
   ],
   "source": [
    "for i, status in enumerate(tweepy.Cursor(api.home_timeline, count=50).items(50)):\n",
    "    print(i, status.text)"
   ]
  },
  {
   "cell_type": "code",
   "execution_count": 32,
   "id": "9d10df9b",
   "metadata": {},
   "outputs": [
    {
     "name": "stdout",
     "output_type": "stream",
     "text": [
      "0 RT @GalGadot: A two on one fight! That’s unfair… for you 😊 \n",
      "Go and send your condolences to @therock and @vancityreynolds, it’s not their f…\n",
      "1 It’s what dreams are made of. \n",
      "And nightmares. \n",
      "F*cking @VancityReynolds it’s all his fault!\n",
      "(though he did tell me… https://t.co/DWpNOpv9Z8\n",
      "2 Just posted a photo https://t.co/6SezMXzD8p\n",
      "3 Just posted a video https://t.co/bNCJIX34E0\n",
      "4 Just posted a video https://t.co/vYzhnMT8cK\n",
      "5 Just posted a video https://t.co/jTJXjepUan\n",
      "6 @SchiavelloVOICE @joerogan @JRsBBQ @TheVinScully @TimNeverett @TheAndyRaymond @KennyRiceSports @WPBooks… https://t.co/cBpiRlfLWS\n",
      "7 Incredible news - THANK YOU 🙏🏾\n",
      "Our @teremana has officially won @usaratings 2021 TEQUILA OF THE YEAR!!! 🔥🔥🥃🥃\n",
      "Thank… https://t.co/x3BXRCHvNF\n",
      "8 This had me rollin’ 😂 \n",
      "Black F*ck ✔️ \n",
      "Black Sazaam ✔️\n",
      "Black Midnight ✔️\n",
      "Black Jack Johnson ✔️\n",
      "Coincidentally, these… https://t.co/xjPOQYWnJB\n",
      "9 Gold PR4s 👟!! \n",
      "Enjoy and that throw down 🏋🏽‍♂️ at the end was pretty bad ass 👀👏🏾💪🏾\n",
      "@ProjectRock @UnderArmour https://t.co/yJsxjAyazt\n",
      "10 No one remembers when we had hair, brother 🤣\n",
      "Shave it off and keep kickin’ ass champ!! 🪒💪🏾 https://t.co/Lk6SYDN9TQ\n",
      "11 @katherineefoley Well certainly not the first time I’ve been mentioned in the same sentence with animals and bacter… https://t.co/Zv8JXHphQG\n",
      "12 Just posted a video https://t.co/y0MvPliSI8\n",
      "13 Shout out to the best (and healthiest) energy drink in the market @ZOAenergy💥 and special shout to my sad looking (… https://t.co/L3DdzbcM2T\n",
      "14 Thank you man. \n",
      "Dig a little deeper is a good way to describe YOUNG ROCK. \n",
      "We start shooting season 2 in a few week… https://t.co/ffr8TFMtPR\n",
      "15 Sip your ZO, now LFG!! \n",
      "Enjoy! @ZOAenergy https://t.co/dMXZALU9Qo\n",
      "16 Enjoy and thank you!\n",
      "#bluelinewarriors @ZOAenergy https://t.co/0teR1ICcPr\n",
      "17 Enjoy! #ZoaArmy \n",
      "@ZOAenergy https://t.co/ZX6DYQ72kZ\n",
      "18 Our @ZOAenergy #BigCanOnCampus college spirit contest is heating up \n",
      "🔥🔥🔥🔥🔥\n",
      "Amazing vids sent in from students acros… https://t.co/uUJ9Bxroxp\n",
      "19 The look of a champion 😆👏🏾👏🏾👊🏾🥃\n",
      "Keep kickin ass boys. Enjoy your Mana!! @Teremana https://t.co/s5doKZCuLo\n"
     ]
    }
   ],
   "source": [
    "other_user = \"therock\"\n",
    "for i, status in enumerate(tweepy.Cursor(api.user_timeline, screen_name=other_user).items(20)):\n",
    "    print(i, status.text)"
   ]
  },
  {
   "cell_type": "code",
   "execution_count": null,
   "id": "4fbad5e8",
   "metadata": {},
   "outputs": [],
   "source": []
  }
 ],
 "metadata": {
  "kernelspec": {
   "display_name": "Python 3",
   "language": "python",
   "name": "python3"
  },
  "language_info": {
   "codemirror_mode": {
    "name": "ipython",
    "version": 3
   },
   "file_extension": ".py",
   "mimetype": "text/x-python",
   "name": "python",
   "nbconvert_exporter": "python",
   "pygments_lexer": "ipython3",
   "version": "3.6.13"
  }
 },
 "nbformat": 4,
 "nbformat_minor": 5
}
